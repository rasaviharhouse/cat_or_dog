{
 "cells": [
  {
   "cell_type": "code",
   "execution_count": 83,
   "outputs": [
    {
     "name": "stdout",
     "output_type": "stream",
     "text": [
      "Requirement already satisfied: numpy in /Users/vigneshramesh/opt/anaconda3/lib/python3.9/site-packages (from -r requirements.txt (line 1)) (1.22.4)\r\n",
      "Requirement already satisfied: pandas in /Users/vigneshramesh/opt/anaconda3/lib/python3.9/site-packages (from -r requirements.txt (line 2)) (1.4.4)\r\n",
      "Requirement already satisfied: matplotlib in /Users/vigneshramesh/opt/anaconda3/lib/python3.9/site-packages (from -r requirements.txt (line 3)) (3.7.0)\r\n",
      "Requirement already satisfied: torch in /Users/vigneshramesh/opt/anaconda3/lib/python3.9/site-packages (from -r requirements.txt (line 4)) (1.12.0)\r\n",
      "Requirement already satisfied: torchvision in /Users/vigneshramesh/opt/anaconda3/lib/python3.9/site-packages (from -r requirements.txt (line 5)) (0.13.0)\r\n",
      "Requirement already satisfied: pillow in /Users/vigneshramesh/opt/anaconda3/lib/python3.9/site-packages (from -r requirements.txt (line 6)) (9.4.0)\r\n",
      "Requirement already satisfied: python-dateutil>=2.8.1 in /Users/vigneshramesh/opt/anaconda3/lib/python3.9/site-packages (from pandas->-r requirements.txt (line 2)) (2.8.2)\r\n",
      "Requirement already satisfied: pytz>=2020.1 in /Users/vigneshramesh/opt/anaconda3/lib/python3.9/site-packages (from pandas->-r requirements.txt (line 2)) (2022.7)\r\n",
      "Requirement already satisfied: packaging>=20.0 in /Users/vigneshramesh/opt/anaconda3/lib/python3.9/site-packages (from matplotlib->-r requirements.txt (line 3)) (22.0)\r\n",
      "Requirement already satisfied: contourpy>=1.0.1 in /Users/vigneshramesh/opt/anaconda3/lib/python3.9/site-packages (from matplotlib->-r requirements.txt (line 3)) (1.0.5)\r\n",
      "Requirement already satisfied: cycler>=0.10 in /Users/vigneshramesh/opt/anaconda3/lib/python3.9/site-packages (from matplotlib->-r requirements.txt (line 3)) (0.11.0)\r\n",
      "Requirement already satisfied: kiwisolver>=1.0.1 in /Users/vigneshramesh/opt/anaconda3/lib/python3.9/site-packages (from matplotlib->-r requirements.txt (line 3)) (1.4.4)\r\n",
      "Requirement already satisfied: pyparsing>=2.3.1 in /Users/vigneshramesh/opt/anaconda3/lib/python3.9/site-packages (from matplotlib->-r requirements.txt (line 3)) (3.0.9)\r\n",
      "Requirement already satisfied: fonttools>=4.22.0 in /Users/vigneshramesh/opt/anaconda3/lib/python3.9/site-packages (from matplotlib->-r requirements.txt (line 3)) (4.25.0)\r\n",
      "Requirement already satisfied: importlib-resources>=3.2.0 in /Users/vigneshramesh/opt/anaconda3/lib/python3.9/site-packages (from matplotlib->-r requirements.txt (line 3)) (5.2.0)\r\n",
      "Requirement already satisfied: typing-extensions in /Users/vigneshramesh/opt/anaconda3/lib/python3.9/site-packages (from torch->-r requirements.txt (line 4)) (4.4.0)\r\n",
      "Requirement already satisfied: requests in /Users/vigneshramesh/opt/anaconda3/lib/python3.9/site-packages (from torchvision->-r requirements.txt (line 5)) (2.28.1)\r\n",
      "Requirement already satisfied: zipp>=3.1.0 in /Users/vigneshramesh/opt/anaconda3/lib/python3.9/site-packages (from importlib-resources>=3.2.0->matplotlib->-r requirements.txt (line 3)) (3.11.0)\r\n",
      "Requirement already satisfied: six>=1.5 in /Users/vigneshramesh/opt/anaconda3/lib/python3.9/site-packages (from python-dateutil>=2.8.1->pandas->-r requirements.txt (line 2)) (1.16.0)\r\n",
      "Requirement already satisfied: charset-normalizer<3,>=2 in /Users/vigneshramesh/opt/anaconda3/lib/python3.9/site-packages (from requests->torchvision->-r requirements.txt (line 5)) (2.0.4)\r\n",
      "Requirement already satisfied: urllib3<1.27,>=1.21.1 in /Users/vigneshramesh/opt/anaconda3/lib/python3.9/site-packages (from requests->torchvision->-r requirements.txt (line 5)) (1.26.14)\r\n",
      "Requirement already satisfied: certifi>=2017.4.17 in /Users/vigneshramesh/opt/anaconda3/lib/python3.9/site-packages (from requests->torchvision->-r requirements.txt (line 5)) (2022.12.7)\r\n",
      "Requirement already satisfied: idna<4,>=2.5 in /Users/vigneshramesh/opt/anaconda3/lib/python3.9/site-packages (from requests->torchvision->-r requirements.txt (line 5)) (3.4)\r\n"
     ]
    }
   ],
   "source": [
    "# !pip install -e git://github.com/rasaviharhouse/cat_or_dog.git/requirements.txt#egg=main\n",
    "\n",
    "!pip install -r requirements.txt"
   ],
   "metadata": {
    "collapsed": false
   }
  },
  {
   "cell_type": "code",
   "execution_count": 88,
   "outputs": [],
   "source": [
    "# Essential Imports\n",
    "\n",
    "import numpy as np\n",
    "import pandas as pd\n",
    "import os\n",
    "import shutil\n",
    "from PIL import Image\n",
    "import torch\n",
    "import torch.nn as nn\n",
    "import torchvision\n",
    "from torchvision import datasets, transforms\n",
    "import matplotlib.pyplot as plt\n",
    "from torchinfo import summary\n",
    "\n",
    "%matplotlib inline\n",
    "%config InlineBackend.figure_format = 'retina'"
   ],
   "metadata": {
    "collapsed": false
   }
  },
  {
   "cell_type": "code",
   "execution_count": 63,
   "outputs": [],
   "source": [
    "# Download the dataset from kaggle manually at https://www.kaggle.com/competitions/dogs-vs-cats/data and unzip with the following code\n",
    "!unzip -q dogs-vs-cats.zip -d dogs-vs-cats/"
   ],
   "metadata": {
    "collapsed": false
   }
  },
  {
   "cell_type": "code",
   "execution_count": 71,
   "outputs": [],
   "source": [
    "!unzip -q dogs-vs-cats/train.zip -d dogs-vs-cats/"
   ],
   "metadata": {
    "collapsed": false
   }
  },
  {
   "cell_type": "code",
   "execution_count": 72,
   "outputs": [],
   "source": [
    "!unzip -q dogs-vs-cats/test1.zip -d dogs-vs-cats/"
   ],
   "metadata": {
    "collapsed": false
   }
  },
  {
   "cell_type": "markdown",
   "source": [
    "Load images. Put images of dogs in /dog directory and cats in /cat directory"
   ],
   "metadata": {
    "collapsed": false
   }
  },
  {
   "cell_type": "code",
   "execution_count": 76,
   "outputs": [],
   "source": [
    "data_dir = 'dogs-vs-cats/train'\n",
    "\n",
    "src_files = os.listdir(data_dir)\n",
    "os.mkdir('dogs-vs-cats/train/cat')\n",
    "os.mkdir('dogs-vs-cats/train/dog')\n",
    "\n",
    "for file_name in src_files:\n",
    "    full_file_name = os.path.join(data_dir, file_name)\n",
    "    if os.path.isfile(full_file_name):\n",
    "        if '/dog' in full_file_name:\n",
    "            shutil.move(full_file_name, data_dir + '/dog')\n",
    "        else:\n",
    "            shutil.move(full_file_name, data_dir + '/cat')"
   ],
   "metadata": {
    "collapsed": false
   }
  },
  {
   "cell_type": "code",
   "execution_count": 89,
   "outputs": [],
   "source": [
    "# Check if any image is corrupted\n",
    "def is_image_corrupted(image_path):\n",
    "    try:\n",
    "        with Image.open(image_path) as img:\n",
    "            img.verify()\n",
    "        return False\n",
    "    except (IOError, SyntaxError):\n",
    "        return True\n",
    "\n",
    "def check_image_dir(directory):\n",
    "    # Iterate over the files in the directory\n",
    "    for filename in os.listdir(directory):\n",
    "        if filename.endswith((\".jpg\", \".jpeg\", \".png\", \".gif\")):\n",
    "            # Full path to the image file\n",
    "            image_path = os.path.join(directory, filename)\n",
    "            if is_image_corrupted(image_path):\n",
    "                print(f\"The image {filename} is corrupted or not a valid image file.\")\n",
    "\n",
    "check_image_dir(data_dir + '/cat')\n",
    "check_image_dir(data_dir + '/dog')"
   ],
   "metadata": {
    "collapsed": false
   }
  }
 ],
 "metadata": {
  "kernelspec": {
   "display_name": "Python 3",
   "language": "python",
   "name": "python3"
  },
  "language_info": {
   "codemirror_mode": {
    "name": "ipython",
    "version": 2
   },
   "file_extension": ".py",
   "mimetype": "text/x-python",
   "name": "python",
   "nbconvert_exporter": "python",
   "pygments_lexer": "ipython2",
   "version": "2.7.6"
  }
 },
 "nbformat": 4,
 "nbformat_minor": 0
}
